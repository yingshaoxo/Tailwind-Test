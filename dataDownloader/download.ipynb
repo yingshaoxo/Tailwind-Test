{
 "cells": [
  {
   "cell_type": "code",
   "execution_count": 62,
   "metadata": {},
   "outputs": [],
   "source": [
    "from auto_everything.web import Selenium"
   ]
  },
  {
   "cell_type": "code",
   "execution_count": 63,
   "metadata": {},
   "outputs": [],
   "source": [
    "selenium = Selenium(\"https://www.americanrhetoric.com/top100speechesall.html\")"
   ]
  },
  {
   "cell_type": "code",
   "execution_count": 64,
   "metadata": {},
   "outputs": [],
   "source": [
    "driver = selenium.driver"
   ]
  },
  {
   "cell_type": "code",
   "execution_count": 65,
   "metadata": {},
   "outputs": [],
   "source": [
    "data = []\n",
    "for i in range(0, 107):\n",
    "    elements = driver.find_elements_by_xpath(f'//*[@id=\"AutoNumber1\"]/tbody/tr[{i}]')\n",
    "    for e in elements:\n",
    "        if len(e.find_elements_by_tag_name(\"td\")) == 5:\n",
    "            author_element = e.find_elements_by_tag_name(\"td\")[1]\n",
    "            title_element = e.find_elements_by_tag_name(\"td\")[2]\n",
    "            article_link = title_element.find_element_by_tag_name(\"a\").get_attribute(\"href\")\n",
    "            obj = {\n",
    "                \"title\": title_element.text,\n",
    "                \"author\": author_element.text,\n",
    "                \"article_link\": article_link\n",
    "            }\n",
    "            # print(obj)\n",
    "            data.append(obj)"
   ]
  },
  {
   "cell_type": "code",
   "execution_count": 66,
   "metadata": {},
   "outputs": [
    {
     "data": {
      "text/plain": [
       "{'title': 'The Declaration of Human Rights',\n",
       " 'author': 'Anna Eleanor Roosevelt',\n",
       " 'article_link': 'https://www.americanrhetoric.com/speeches/eleanorrooseveltdeclarationhumanrights.htm'}"
      ]
     },
     "execution_count": 66,
     "metadata": {},
     "output_type": "execute_result"
    }
   ],
   "source": [
    "data[-1]"
   ]
  },
  {
   "cell_type": "code",
   "execution_count": 40,
   "metadata": {},
   "outputs": [],
   "source": [
    "import json\n",
    "text = json.dumps(data)"
   ]
  },
  {
   "cell_type": "code",
   "execution_count": 44,
   "metadata": {},
   "outputs": [],
   "source": [
    "with open(\"artical_list.json\", 'w') as f:\n",
    "    f.write(text)"
   ]
  },
  {
   "cell_type": "code",
   "execution_count": 67,
   "metadata": {},
   "outputs": [
    {
     "name": "stdout",
     "output_type": "stream",
     "text": [
      "31\n",
      "30\n",
      "29\n",
      "0\n",
      "30\n",
      "39\n",
      "0\n",
      "13\n",
      "24\n",
      "65\n",
      "57\n",
      "32\n",
      "22\n",
      "44\n",
      "39\n",
      "39\n",
      "13\n",
      "28\n",
      "46\n",
      "36\n",
      "76\n",
      "20\n",
      "17\n",
      "100\n",
      "51\n",
      "58\n",
      "61\n",
      "42\n",
      "56\n",
      "24\n",
      "33\n",
      "0\n",
      "5\n",
      "36\n",
      "53\n",
      "30\n",
      "37\n",
      "27\n",
      "18\n",
      "36\n",
      "73\n",
      "62\n",
      "113\n",
      "19\n",
      "25\n",
      "32\n",
      "51\n",
      "111\n",
      "20\n",
      "17\n",
      "48\n",
      "0\n",
      "45\n",
      "30\n",
      "232\n",
      "24\n",
      "0\n",
      "22\n",
      "37\n",
      "58\n",
      "68\n",
      "18\n",
      "43\n",
      "48\n",
      "68\n",
      "21\n",
      "37\n",
      "36\n",
      "3\n",
      "54\n",
      "20\n",
      "74\n",
      "53\n",
      "38\n",
      "10\n",
      "14\n",
      "17\n",
      "0\n",
      "0\n",
      "14\n",
      "0\n",
      "72\n",
      "16\n",
      "14\n",
      "159\n",
      "80\n",
      "0\n",
      "16\n",
      "16\n",
      "46\n",
      "25\n",
      "14\n",
      "28\n",
      "28\n",
      "57\n",
      "16\n"
     ]
    }
   ],
   "source": [
    "artical_content_map = {}\n",
    "\n",
    "for i in range(0, len(data)):\n",
    "    link = data[i][\"article_link\"]\n",
    "    selenium.driver.get(link)\n",
    "\n",
    "    audio_url = \"\"\n",
    "    try:\n",
    "        audio_elements = driver.find_elements_by_xpath('//audio/source')\n",
    "        if len(audio_elements) > 0:\n",
    "            audio_url = audio_elements[0].get_attribute(\"src\")\n",
    "    except Exception as e:\n",
    "        print(e)\n",
    "\n",
    "    lines = []\n",
    "    found = driver.find_elements_by_xpath('//p')\n",
    "    for e in found:\n",
    "        style = e.get_attribute(\"style\").strip()\n",
    "        if style.strip() == \"line-height: 150%;\":\n",
    "            paragraph = e.text.strip()\n",
    "            if (len(paragraph)):\n",
    "                #print(paragraph)\n",
    "                lines.append(paragraph)\n",
    "    \n",
    "    print(len(lines))\n",
    "    artical_content_map[link] = {\n",
    "        \"content\": lines,\n",
    "        \"audio_url\": audio_url\n",
    "    }"
   ]
  },
  {
   "cell_type": "code",
   "execution_count": 71,
   "metadata": {},
   "outputs": [
    {
     "data": {
      "text/plain": [
       "96"
      ]
     },
     "execution_count": 71,
     "metadata": {},
     "output_type": "execute_result"
    }
   ],
   "source": [
    "len(list(artical_content_map.keys()))"
   ]
  },
  {
   "cell_type": "code",
   "execution_count": 75,
   "metadata": {},
   "outputs": [],
   "source": [
    "new_artical_content_map = {}\n",
    "for key in artical_content_map.keys():\n",
    "    if len(artical_content_map[key][\"content\"]) > 0:\n",
    "        new_artical_content_map[key] = artical_content_map[key]"
   ]
  },
  {
   "cell_type": "code",
   "execution_count": 77,
   "metadata": {},
   "outputs": [],
   "source": [
    "with open(\"artical_contents.json\", 'w') as f:\n",
    "    f.write(json.dumps(new_artical_content_map))"
   ]
  },
  {
   "cell_type": "code",
   "execution_count": null,
   "metadata": {},
   "outputs": [],
   "source": []
  }
 ],
 "metadata": {
  "interpreter": {
   "hash": "3619ba00d98f14a3bc2109fbb0d3f0148887de5a94630decf7457da2facfdc1c"
  },
  "kernelspec": {
   "display_name": "Python 3.9.7 ('.venv': poetry)",
   "language": "python",
   "name": "python3"
  },
  "language_info": {
   "codemirror_mode": {
    "name": "ipython",
    "version": 3
   },
   "file_extension": ".py",
   "mimetype": "text/x-python",
   "name": "python",
   "nbconvert_exporter": "python",
   "pygments_lexer": "ipython3",
   "version": "3.9.7"
  },
  "orig_nbformat": 4
 },
 "nbformat": 4,
 "nbformat_minor": 2
}
